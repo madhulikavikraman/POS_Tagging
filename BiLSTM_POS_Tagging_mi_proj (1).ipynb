{
  "nbformat": 4,
  "nbformat_minor": 0,
  "metadata": {
    "colab": {
      "provenance": []
    },
    "kernelspec": {
      "display_name": "Python 3",
      "language": "python",
      "name": "python3"
    },
    "language_info": {
      "codemirror_mode": {
        "name": "ipython",
        "version": 3
      },
      "file_extension": ".py",
      "mimetype": "text/x-python",
      "name": "python",
      "nbconvert_exporter": "python",
      "pygments_lexer": "ipython3",
      "version": "3.7.7"
    },
    "accelerator": "GPU"
  },
  "cells": [
    {
      "cell_type": "code",
      "metadata": {
        "id": "3ICI0prX0vGz"
      },
      "source": [
        "import matplotlib.pyplot as plt\n",
        "import nltk\n",
        "import numpy as np\n",
        "import os\n",
        "import pandas as pd\n",
        "import seaborn as sns\n",
        "from collections import defaultdict\n",
        "from keras import backend as K\n",
        "from keras.layers import Dense, LSTM, InputLayer, Bidirectional, TimeDistributed\n",
        "from keras.layers import Embedding, Activation\n",
        "from keras.models import Sequential\n",
        "from keras.optimizers import Adam\n",
        "from keras_preprocessing.sequence import pad_sequences\n",
        "from nltk.corpus import brown\n",
        "from sklearn.model_selection import train_test_split, KFold"
      ],
      "execution_count": null,
      "outputs": []
    },
    {
      "cell_type": "code",
      "source": [
        "import codecs\n",
        "import pickle\n",
        "import numpy as np\n",
        "import pandas as pd"
      ],
      "metadata": {
        "id": "Hl_vfRBjnseX"
      },
      "execution_count": null,
      "outputs": []
    },
    {
      "cell_type": "code",
      "metadata": {
        "id": "Tiher5s9Vke-",
        "colab": {
          "base_uri": "https://localhost:8080/"
        },
        "outputId": "c51fe432-4f75-49a8-8739-6b7a8dc1210e"
      },
      "source": [
        "\n",
        "\n",
        "#Downloading Glove Word Embeddings\n",
        "!wget http://nlp.stanford.edu/data/glove.6B.zip\n",
        "!unzip glove.6B.zip\n",
        "\n"
      ],
      "execution_count": null,
      "outputs": [
        {
          "output_type": "stream",
          "name": "stdout",
          "text": [
            "--2022-11-28 09:24:46--  http://nlp.stanford.edu/data/glove.6B.zip\n",
            "Resolving nlp.stanford.edu (nlp.stanford.edu)... 171.64.67.140\n",
            "Connecting to nlp.stanford.edu (nlp.stanford.edu)|171.64.67.140|:80... connected.\n",
            "HTTP request sent, awaiting response... 302 Found\n",
            "Location: https://nlp.stanford.edu/data/glove.6B.zip [following]\n",
            "--2022-11-28 09:24:46--  https://nlp.stanford.edu/data/glove.6B.zip\n",
            "Connecting to nlp.stanford.edu (nlp.stanford.edu)|171.64.67.140|:443... connected.\n",
            "HTTP request sent, awaiting response... 301 Moved Permanently\n",
            "Location: https://downloads.cs.stanford.edu/nlp/data/glove.6B.zip [following]\n",
            "--2022-11-28 09:24:47--  https://downloads.cs.stanford.edu/nlp/data/glove.6B.zip\n",
            "Resolving downloads.cs.stanford.edu (downloads.cs.stanford.edu)... 171.64.64.22\n",
            "Connecting to downloads.cs.stanford.edu (downloads.cs.stanford.edu)|171.64.64.22|:443... connected.\n",
            "HTTP request sent, awaiting response... 200 OK\n",
            "Length: 862182613 (822M) [application/zip]\n",
            "Saving to: ‘glove.6B.zip’\n",
            "\n",
            "glove.6B.zip        100%[===================>] 822.24M  5.07MB/s    in 2m 40s  \n",
            "\n",
            "2022-11-28 09:27:28 (5.14 MB/s) - ‘glove.6B.zip’ saved [862182613/862182613]\n",
            "\n",
            "Archive:  glove.6B.zip\n",
            "  inflating: glove.6B.50d.txt        \n",
            "  inflating: glove.6B.100d.txt       \n",
            "  inflating: glove.6B.200d.txt       \n",
            "  inflating: glove.6B.300d.txt       \n"
          ]
        }
      ]
    },
    {
      "cell_type": "code",
      "source": [],
      "metadata": {
        "id": "4bi9XCVnn27B"
      },
      "execution_count": null,
      "outputs": []
    },
    {
      "cell_type": "code",
      "source": [
        "f = codecs.open(\"corpus1.txt\", \"r\", encoding=\"utf8\")\n",
        "\n",
        "data = f.readlines()\n",
        "\n",
        "f.close()"
      ],
      "metadata": {
        "id": "o__7yjY2nvWM"
      },
      "execution_count": null,
      "outputs": []
    },
    {
      "cell_type": "code",
      "source": [
        "l=[]\n",
        "for i in range(len(data)):\n",
        "  if (data[i][0].strip()):\n",
        "    l.append(tuple(''.join(data[i]).split()))\n",
        "l[:10]\n",
        "len(l)"
      ],
      "metadata": {
        "colab": {
          "base_uri": "https://localhost:8080/"
        },
        "id": "u8LZCMQUrhe_",
        "outputId": "7cfd47f6-2e29-4535-b8f4-6357d5407969"
      },
      "execution_count": null,
      "outputs": [
        {
          "output_type": "execute_result",
          "data": {
            "text/plain": [
              "4949"
            ]
          },
          "metadata": {},
          "execution_count": 6
        }
      ]
    },
    {
      "cell_type": "code",
      "metadata": {
        "id": "L4Ai_2xCKLJO"
      },
      "source": [
        "#separating sentences and tags as separate sequences\n",
        "sentences, sentence_tags =[], []\n",
        "for tagged_sentence in l:\n",
        "  if(len(tagged_sentence)<2):\n",
        "    print(tagged_sentence)\n",
        "  sentences.append(tagged_sentence[0])\n",
        "  sentence_tags.append(tagged_sentence[1])"
      ],
      "execution_count": null,
      "outputs": []
    },
    {
      "cell_type": "code",
      "metadata": {
        "id": "jlP9FpEL0ZV7"
      },
      "source": [
        "#Function to ignore the 0 padding while calculating accuracy\n",
        "def ignore_class_accuracy(to_ignore=0):\n",
        "    def ignore_accuracy(y_true, y_pred):\n",
        "        y_true_class = K.argmax(y_true, axis=-1)\n",
        "        y_pred_class = K.argmax(y_pred, axis=-1)\n",
        "\n",
        "        ignore_mask = K.cast(K.not_equal(y_pred_class, to_ignore), 'int32')\n",
        "        matches = K.cast(K.equal(y_true_class, y_pred_class), 'int32') * ignore_mask\n",
        "        accuracy = K.sum(matches) / K.maximum(K.sum(ignore_mask), 1)\n",
        "        return accuracy\n",
        "    return ignore_accuracy\n",
        "\n",
        "#Function to return one code encoding of tags\n",
        "def one_hot_encoding(tag_sents, n_tags):\n",
        "    tag_one_hot_sent = []\n",
        "    for tag_sent in tag_sents:\n",
        "        tags_one_hot = []\n",
        "        for tag in tag_sent:\n",
        "            tags_one_hot.append(np.zeros(n_tags))\n",
        "            tags_one_hot[-1][tag] = 1.0\n",
        "        tag_one_hot_sent.append(tags_one_hot)\n",
        "    return np.array(tag_one_hot_sent)\n",
        "\n",
        "#Function to convert output into tags\n",
        "def logits_to_tags(tag_sentences, index):\n",
        "    tag_sequences = []\n",
        "    for tag_sentence in tag_sentences:\n",
        "        tag_sequence = []\n",
        "        for tag in tag_sentence:\n",
        "            # if index[np.argmax(tag)] == \"-PAD-\":\n",
        "            #     break\n",
        "            # else:\n",
        "                tag_sequence.append(index[np.argmax(tag)])\n",
        "        tag_sequences.append(np.array(tag_sequence))\n",
        "    return tag_sequences"
      ],
      "execution_count": null,
      "outputs": []
    },
    {
      "cell_type": "code",
      "metadata": {
        "id": "OgfevJX3Vkfl",
        "colab": {
          "base_uri": "https://localhost:8080/"
        },
        "outputId": "fdf75560-5921-4466-e473-53942b59bfac"
      },
      "source": [
        "#Use the 300 dimensional GLove Word Embeddings\n",
        "glove_dir = './'\n",
        "\n",
        "embeddings_index = {} #initialize dictionary\n",
        "f = open('/content/glove.6B.300d.txt','rb')\n",
        "for line in f:\n",
        "    values = line.split()\n",
        "    word = values[0]\n",
        "    coefs = np.asarray(values[1:], dtype='float32')\n",
        "    embeddings_index[word] = coefs\n",
        "f.close()\n",
        "\n",
        "print('Found %s word vectors.' % len(embeddings_index))"
      ],
      "execution_count": null,
      "outputs": [
        {
          "output_type": "stream",
          "name": "stdout",
          "text": [
            "Found 400000 word vectors.\n"
          ]
        }
      ]
    },
    {
      "cell_type": "code",
      "metadata": {
        "id": "PJ-t17BlVkft"
      },
      "source": [
        "acc = []\n",
        "conf_matrix = []\n",
        "precision_fold = []\n",
        "accuracy_fold = []\n",
        "recall_fold = []\n",
        "f1score_fold = []\n",
        "\n",
        "tag_list=['CC', 'DEM', 'DET', 'INJ', 'IRR', 'JJ', 'NN', 'NUM', 'PRP', 'PSP',\n",
        "       'QC', 'RB', 'SYM', 'UT', 'VM', 'WQ']\n",
        "\n",
        "# The integers for each tag are the same as above\n",
        "\n",
        "MAX_LENGTH = len(max(sentences, key=len)) # maximum words in a sentence\n",
        "\n",
        "conf_mat_df = pd.DataFrame(columns=tag_list, index=tag_list)\n",
        "conf_mat_df = conf_mat_df.fillna(0)"
      ],
      "execution_count": null,
      "outputs": []
    },
    {
      "cell_type": "code",
      "metadata": {
        "id": "mt3WSLZuyPc7",
        "colab": {
          "base_uri": "https://localhost:8080/"
        },
        "outputId": "c88264c0-daec-4670-c26b-ffc0f596af82"
      },
      "source": [
        "num_folds = 5\n",
        "iteration = 1\n",
        "kfold = KFold(num_folds)\n",
        "\n",
        "for train_index, test_index in kfold.split(range(len(data))):\n",
        "\n",
        "    print(\"Iteration \" + str(iteration) + \" started.\")\n",
        "    train_sentences = np.take(sentences,train_index).tolist()\n",
        "    test_sentences = np.take(sentences,test_index).tolist()\n",
        "    train_tags = np.take(sentence_tags,train_index).tolist()\n",
        "    test_tags = np.take(sentence_tags,test_index).tolist()\n",
        "\n",
        "    true_pos_tag = defaultdict(int)\n",
        "    false_pos_tag = defaultdict(int)\n",
        "    false_neg_tag = defaultdict(int)\n",
        "    precision_tags = defaultdict(float)\n",
        "    accuracy_tags = defaultdict(float)\n",
        "    recall_tags = defaultdict(float)\n",
        "    f1score_tags = defaultdict(float)\n",
        "\n",
        "    words, tags = set([]), set([])\n",
        "    #creating sets of words and tags\n",
        "    for sentence in train_sentences:\n",
        "        for word in sentence:\n",
        "            words.add(word.lower())\n",
        "\n",
        "    for tag_sent in train_tags:\n",
        "        for tag in tag_sent:\n",
        "            tags.add(tag)\n",
        "\n",
        "    #bulding vocabulary of words and tags\n",
        "    word2index = {word: i + 2 for i, word in enumerate(list(words))}\n",
        "    word2index['-PAD-'] = 0  # 0 is assigned for padding\n",
        "    word2index['-OOV-'] = 1  # 1 is assigned for unknown words\n",
        "    tag2index = {tag: i + 1 for i, tag in enumerate(list(tags))}\n",
        "    tag2index['-PAD-'] = 0  # 0 is assigned for padding\n",
        "\n",
        "    #Tokenising words and  by their indexes in vocabulary\n",
        "    train_sentences_X, test_sentences_X, train_tags_y, test_tags_y = [], [], [], []\n",
        "\n",
        "    for sentence in train_sentences:\n",
        "        sent_int = []\n",
        "        for word in sentence:\n",
        "            try:\n",
        "                sent_int.append(word2index[word.lower()])\n",
        "            except KeyError:\n",
        "                sent_int.append(word2index['-OOV-'])\n",
        "        train_sentences_X.append(sent_int)\n",
        "\n",
        "    for sentence in test_sentences:\n",
        "        sent_int = []\n",
        "        for word in sentence:\n",
        "            try:\n",
        "                sent_int.append(word2index[word.lower()])\n",
        "            except KeyError:\n",
        "                sent_int.append(word2index['-OOV-'])\n",
        "        test_sentences_X.append(sent_int)\n",
        "\n",
        "    for sent_tags in train_tags:\n",
        "        train_tags_y.append([tag2index[tag] for tag in sent_tags])\n",
        "\n",
        "    for sent_tags in test_tags:\n",
        "        test_tags_y.append([tag2index[tag] for tag in sent_tags])\n",
        "\n",
        "    #Add padding to sentences\n",
        "    train_sentences_X = pad_sequences(train_sentences_X, maxlen=MAX_LENGTH, padding='post')\n",
        "    test_sentences_X = pad_sequences(test_sentences_X, maxlen=MAX_LENGTH, padding='post')\n",
        "    train_tags_y = pad_sequences(train_tags_y, maxlen=MAX_LENGTH, padding='post')\n",
        "    test_tags_y = pad_sequences(test_tags_y, maxlen=MAX_LENGTH, padding='post')\n",
        "\n",
        "    #Building the Embedding Layer\n",
        "    embedding_dim = 300\n",
        "\n",
        "    embedding_matrix = np.zeros((len(word2index), embedding_dim))\n",
        "    for word, i in word2index.items():\n",
        "        embedding_vector = embeddings_index.get(word)\n",
        "        if i < len(word2index):\n",
        "            if embedding_vector is not None:\n",
        "                # Words not found in embedding index will be all-zeros.\n",
        "                embedding_matrix[i] = embedding_vector\n",
        "\n",
        "    #Building the BiLSTM model\n",
        "    model = Sequential()\n",
        "    model.add(InputLayer(input_shape=(MAX_LENGTH, )))\n",
        "    model.add(Embedding(len(word2index), 300, weights=[embedding_matrix],trainable=False))\n",
        "    model.add(Bidirectional(LSTM(256, return_sequences=True)))\n",
        "    model.add(TimeDistributed(Dense(len(tag2index))))\n",
        "    model.add(Activation('softmax'))\n",
        "\n",
        "    model.compile(loss='categorical_crossentropy', optimizer=Adam(0.001),\n",
        "                  metrics=['accuracy', ignore_class_accuracy(0)])\n",
        "    model.summary()\n",
        "    one_hot_train_tags_y = one_hot_encoding(train_tags_y, len(tag2index))\n",
        "\n",
        "    #Training the model\n",
        "    history = model.fit(train_sentences_X, one_hot_encoding(train_tags_y, len(tag2index)),\n",
        "              batch_size=128, epochs= 9, validation_split=0.2)\n",
        "\n",
        "    scores = model.evaluate(test_sentences_X, one_hot_encoding(test_tags_y, len(tag2index)))\n",
        "    acc.append(scores[1]*100)\n",
        "\n",
        "\n",
        "    predictions = model.predict(test_sentences_X)\n",
        "    pred_sequence = logits_to_tags(predictions, {i: t for t, i in tag2index.items()})\n",
        "    y_prob_class = (model.predict(test_sentences_X, verbose = 1))>0.5\n",
        "    try:\n",
        "      for sen_num in range(len(test_tags)):\n",
        "          for i,tag in enumerate(test_tags[sen_num]):\n",
        "              conf_mat_df[tag][pred_sequence[sen_num][i]] +=1\n",
        "              if test_tags[sen_num][i] == pred_sequence[sen_num][i]:\n",
        "                true_pos_tag[tag] += 1\n",
        "              else:\n",
        "                false_neg_tag[tag] += 1\n",
        "                false_pos_tag[pred_sequence[sen_num][i]] += 1\n",
        "    except:\n",
        "      continue\n",
        "\n",
        "    for tag in tag_list[1:]:\n",
        "        precision_tags[tag] = true_pos_tag[tag] / (true_pos_tag[tag] + false_pos_tag[tag])\n",
        "        recall_tags[tag] = true_pos_tag[tag] / (true_pos_tag[tag] + false_neg_tag[tag])\n",
        "        f1score_tags[tag] = 2 * precision_tags[tag] * recall_tags[tag] / (precision_tags[tag] + recall_tags[tag])\n",
        "        accuracy_tags[tag] = true_pos_tag[tag] / (true_pos_tag[tag] + false_neg_tag[tag] + false_pos_tag[tag])\n",
        "\n",
        "    #conf_matrix.append(conf_mat_df)\n",
        "    accuracy_fold.append(accuracy_tags)\n",
        "    precision_fold.append(precision_tags)\n",
        "    recall_fold.append(recall_tags)\n",
        "    f1score_fold.append(f1score_tags)\n",
        "    if iteration == 1:\n",
        "        break\n",
        "    iteration += 1\n",
        ""
      ],
      "execution_count": null,
      "outputs": [
        {
          "output_type": "stream",
          "name": "stdout",
          "text": [
            "Iteration 1 started.\n",
            "Model: \"sequential_10\"\n",
            "_________________________________________________________________\n",
            " Layer (type)                Output Shape              Param #   \n",
            "=================================================================\n",
            " embedding_10 (Embedding)    (None, 26, 300)           25200     \n",
            "                                                                 \n",
            " bidirectional_10 (Bidirecti  (None, 26, 512)          1140736   \n",
            " onal)                                                           \n",
            "                                                                 \n",
            " time_distributed_10 (TimeDi  (None, 26, 18)           9234      \n",
            " stributed)                                                      \n",
            "                                                                 \n",
            " activation_10 (Activation)  (None, 26, 18)            0         \n",
            "                                                                 \n",
            "=================================================================\n",
            "Total params: 1,175,170\n",
            "Trainable params: 1,149,970\n",
            "Non-trainable params: 25,200\n",
            "_________________________________________________________________\n",
            "Epoch 1/9\n",
            "25/25 [==============================] - 5s 65ms/step - loss: 1.2189 - accuracy: 0.9102 - ignore_accuracy: 0.0000e+00 - val_loss: 0.3263 - val_accuracy: 0.9100 - val_ignore_accuracy: 0.0000e+00\n",
            "Epoch 2/9\n",
            "25/25 [==============================] - 0s 18ms/step - loss: 0.2935 - accuracy: 0.9102 - ignore_accuracy: 0.0000e+00 - val_loss: 0.2727 - val_accuracy: 0.9100 - val_ignore_accuracy: 0.0000e+00\n",
            "Epoch 3/9\n",
            "25/25 [==============================] - 0s 17ms/step - loss: 0.2654 - accuracy: 0.9102 - ignore_accuracy: 0.0000e+00 - val_loss: 0.2572 - val_accuracy: 0.9212 - val_ignore_accuracy: 0.3062\n",
            "Epoch 4/9\n",
            "25/25 [==============================] - 0s 14ms/step - loss: 0.2528 - accuracy: 0.9223 - ignore_accuracy: 0.3140 - val_loss: 0.2464 - val_accuracy: 0.9212 - val_ignore_accuracy: 0.3062\n",
            "Epoch 5/9\n",
            "25/25 [==============================] - 0s 14ms/step - loss: 0.2427 - accuracy: 0.9281 - ignore_accuracy: 0.3144 - val_loss: 0.2373 - val_accuracy: 0.9324 - val_ignore_accuracy: 0.3062\n",
            "Epoch 6/9\n",
            "25/25 [==============================] - 0s 14ms/step - loss: 0.2345 - accuracy: 0.9344 - ignore_accuracy: 0.3147 - val_loss: 0.2298 - val_accuracy: 0.9324 - val_ignore_accuracy: 0.3062\n",
            "Epoch 7/9\n",
            "25/25 [==============================] - 0s 14ms/step - loss: 0.2277 - accuracy: 0.9344 - ignore_accuracy: 0.3139 - val_loss: 0.2241 - val_accuracy: 0.9324 - val_ignore_accuracy: 0.3062\n",
            "Epoch 8/9\n",
            "25/25 [==============================] - 0s 14ms/step - loss: 0.2216 - accuracy: 0.9344 - ignore_accuracy: 0.3149 - val_loss: 0.2175 - val_accuracy: 0.9324 - val_ignore_accuracy: 0.3062\n",
            "Epoch 9/9\n",
            "25/25 [==============================] - 0s 13ms/step - loss: 0.2161 - accuracy: 0.9344 - ignore_accuracy: 0.3136 - val_loss: 0.2132 - val_accuracy: 0.9324 - val_ignore_accuracy: 0.3062\n",
            "31/31 [==============================] - 0s 5ms/step - loss: 0.1900 - accuracy: 0.9522 - ignore_accuracy: 0.4857\n",
            "31/31 [==============================] - 1s 4ms/step\n",
            "31/31 [==============================] - 0s 4ms/step\n",
            "Iteration 1 started.\n",
            "Model: \"sequential_11\"\n",
            "_________________________________________________________________\n",
            " Layer (type)                Output Shape              Param #   \n",
            "=================================================================\n",
            " embedding_11 (Embedding)    (None, 26, 300)           26100     \n",
            "                                                                 \n",
            " bidirectional_11 (Bidirecti  (None, 26, 512)          1140736   \n",
            " onal)                                                           \n",
            "                                                                 \n",
            " time_distributed_11 (TimeDi  (None, 26, 18)           9234      \n",
            " stributed)                                                      \n",
            "                                                                 \n",
            " activation_11 (Activation)  (None, 26, 18)            0         \n",
            "                                                                 \n",
            "=================================================================\n",
            "Total params: 1,176,070\n",
            "Trainable params: 1,149,970\n",
            "Non-trainable params: 26,100\n",
            "_________________________________________________________________\n",
            "Epoch 1/9\n",
            "25/25 [==============================] - 4s 51ms/step - loss: 1.1843 - accuracy: 0.9111 - ignore_accuracy: 0.0000e+00 - val_loss: 0.3150 - val_accuracy: 0.9100 - val_ignore_accuracy: 0.0000e+00\n",
            "Epoch 2/9\n",
            "25/25 [==============================] - 0s 14ms/step - loss: 0.2860 - accuracy: 0.9111 - ignore_accuracy: 0.0000e+00 - val_loss: 0.2732 - val_accuracy: 0.9100 - val_ignore_accuracy: 0.0000e+00\n",
            "Epoch 3/9\n",
            "25/25 [==============================] - 0s 14ms/step - loss: 0.2610 - accuracy: 0.9164 - ignore_accuracy: 0.1404 - val_loss: 0.2589 - val_accuracy: 0.9212 - val_ignore_accuracy: 0.3062\n",
            "Epoch 4/9\n",
            "25/25 [==============================] - 0s 14ms/step - loss: 0.2486 - accuracy: 0.9248 - ignore_accuracy: 0.3556 - val_loss: 0.2473 - val_accuracy: 0.9212 - val_ignore_accuracy: 0.3062\n",
            "Epoch 5/9\n",
            "25/25 [==============================] - 1s 21ms/step - loss: 0.2385 - accuracy: 0.9371 - ignore_accuracy: 0.3541 - val_loss: 0.2386 - val_accuracy: 0.9324 - val_ignore_accuracy: 0.3062\n",
            "Epoch 6/9\n",
            "25/25 [==============================] - 0s 20ms/step - loss: 0.2302 - accuracy: 0.9383 - ignore_accuracy: 0.3536 - val_loss: 0.2310 - val_accuracy: 0.9324 - val_ignore_accuracy: 0.3062\n",
            "Epoch 7/9\n",
            "25/25 [==============================] - 1s 24ms/step - loss: 0.2232 - accuracy: 0.9383 - ignore_accuracy: 0.3542 - val_loss: 0.2241 - val_accuracy: 0.9324 - val_ignore_accuracy: 0.3062\n",
            "Epoch 8/9\n",
            "25/25 [==============================] - 0s 19ms/step - loss: 0.2169 - accuracy: 0.9383 - ignore_accuracy: 0.3527 - val_loss: 0.2181 - val_accuracy: 0.9324 - val_ignore_accuracy: 0.3062\n",
            "Epoch 9/9\n",
            "25/25 [==============================] - 0s 17ms/step - loss: 0.2113 - accuracy: 0.9383 - ignore_accuracy: 0.3539 - val_loss: 0.2134 - val_accuracy: 0.9324 - val_ignore_accuracy: 0.3062\n",
            "31/31 [==============================] - 0s 10ms/step - loss: 0.2048 - accuracy: 0.9395 - ignore_accuracy: 0.3591\n",
            "31/31 [==============================] - 2s 7ms/step\n",
            "31/31 [==============================] - 0s 4ms/step\n",
            "Iteration 1 started.\n",
            "Model: \"sequential_12\"\n",
            "_________________________________________________________________\n",
            " Layer (type)                Output Shape              Param #   \n",
            "=================================================================\n",
            " embedding_12 (Embedding)    (None, 26, 300)           28800     \n",
            "                                                                 \n",
            " bidirectional_12 (Bidirecti  (None, 26, 512)          1140736   \n",
            " onal)                                                           \n",
            "                                                                 \n",
            " time_distributed_12 (TimeDi  (None, 26, 18)           9234      \n",
            " stributed)                                                      \n",
            "                                                                 \n",
            " activation_12 (Activation)  (None, 26, 18)            0         \n",
            "                                                                 \n",
            "=================================================================\n",
            "Total params: 1,178,770\n",
            "Trainable params: 1,149,970\n",
            "Non-trainable params: 28,800\n",
            "_________________________________________________________________\n",
            "Epoch 1/9\n",
            "25/25 [==============================] - 6s 53ms/step - loss: 1.1779 - accuracy: 0.9120 - ignore_accuracy: 0.0000e+00 - val_loss: 0.3153 - val_accuracy: 0.9100 - val_ignore_accuracy: 0.0000e+00\n",
            "Epoch 2/9\n",
            "25/25 [==============================] - 0s 14ms/step - loss: 0.2804 - accuracy: 0.9120 - ignore_accuracy: 0.0000e+00 - val_loss: 0.2739 - val_accuracy: 0.9100 - val_ignore_accuracy: 0.0000e+00\n",
            "Epoch 3/9\n",
            "25/25 [==============================] - 0s 15ms/step - loss: 0.2550 - accuracy: 0.9188 - ignore_accuracy: 0.1791 - val_loss: 0.2596 - val_accuracy: 0.9212 - val_ignore_accuracy: 0.3062\n",
            "Epoch 4/9\n",
            "25/25 [==============================] - 0s 14ms/step - loss: 0.2428 - accuracy: 0.9287 - ignore_accuracy: 0.3793 - val_loss: 0.2492 - val_accuracy: 0.9324 - val_ignore_accuracy: 0.3062\n",
            "Epoch 5/9\n",
            "25/25 [==============================] - 0s 13ms/step - loss: 0.2329 - accuracy: 0.9410 - ignore_accuracy: 0.3778 - val_loss: 0.2400 - val_accuracy: 0.9324 - val_ignore_accuracy: 0.3062\n",
            "Epoch 6/9\n",
            "25/25 [==============================] - 0s 14ms/step - loss: 0.2248 - accuracy: 0.9410 - ignore_accuracy: 0.3772 - val_loss: 0.2320 - val_accuracy: 0.9324 - val_ignore_accuracy: 0.3062\n",
            "Epoch 7/9\n",
            "25/25 [==============================] - 0s 13ms/step - loss: 0.2179 - accuracy: 0.9410 - ignore_accuracy: 0.3780 - val_loss: 0.2260 - val_accuracy: 0.9324 - val_ignore_accuracy: 0.3062\n",
            "Epoch 8/9\n",
            "25/25 [==============================] - 0s 14ms/step - loss: 0.2116 - accuracy: 0.9410 - ignore_accuracy: 0.3778 - val_loss: 0.2206 - val_accuracy: 0.9324 - val_ignore_accuracy: 0.3062\n",
            "Epoch 9/9\n",
            "25/25 [==============================] - 0s 14ms/step - loss: 0.2062 - accuracy: 0.9410 - ignore_accuracy: 0.3777 - val_loss: 0.2137 - val_accuracy: 0.9324 - val_ignore_accuracy: 0.3062\n",
            "31/31 [==============================] - 0s 5ms/step - loss: 0.2216 - accuracy: 0.9309 - ignore_accuracy: 0.2829\n",
            "31/31 [==============================] - 1s 4ms/step\n",
            "31/31 [==============================] - 0s 4ms/step\n",
            "Iteration 1 started.\n",
            "Model: \"sequential_13\"\n",
            "_________________________________________________________________\n",
            " Layer (type)                Output Shape              Param #   \n",
            "=================================================================\n",
            " embedding_13 (Embedding)    (None, 26, 300)           28800     \n",
            "                                                                 \n",
            " bidirectional_13 (Bidirecti  (None, 26, 512)          1140736   \n",
            " onal)                                                           \n",
            "                                                                 \n",
            " time_distributed_13 (TimeDi  (None, 26, 18)           9234      \n",
            " stributed)                                                      \n",
            "                                                                 \n",
            " activation_13 (Activation)  (None, 26, 18)            0         \n",
            "                                                                 \n",
            "=================================================================\n",
            "Total params: 1,178,770\n",
            "Trainable params: 1,149,970\n",
            "Non-trainable params: 28,800\n",
            "_________________________________________________________________\n",
            "Epoch 1/9\n",
            "25/25 [==============================] - 4s 50ms/step - loss: 1.1787 - accuracy: 0.9118 - ignore_accuracy: 0.0000e+00 - val_loss: 0.3158 - val_accuracy: 0.9100 - val_ignore_accuracy: 0.0000e+00\n",
            "Epoch 2/9\n",
            "25/25 [==============================] - 0s 13ms/step - loss: 0.2819 - accuracy: 0.9118 - ignore_accuracy: 0.0000e+00 - val_loss: 0.2750 - val_accuracy: 0.9100 - val_ignore_accuracy: 0.0000e+00\n",
            "Epoch 3/9\n",
            "25/25 [==============================] - 0s 14ms/step - loss: 0.2578 - accuracy: 0.9193 - ignore_accuracy: 0.1962 - val_loss: 0.2601 - val_accuracy: 0.9212 - val_ignore_accuracy: 0.3062\n",
            "Epoch 4/9\n",
            "25/25 [==============================] - 0s 14ms/step - loss: 0.2457 - accuracy: 0.9262 - ignore_accuracy: 0.3734 - val_loss: 0.2495 - val_accuracy: 0.9212 - val_ignore_accuracy: 0.3062\n",
            "Epoch 5/9\n",
            "25/25 [==============================] - 0s 14ms/step - loss: 0.2356 - accuracy: 0.9398 - ignore_accuracy: 0.3705 - val_loss: 0.2405 - val_accuracy: 0.9324 - val_ignore_accuracy: 0.3062\n",
            "Epoch 6/9\n",
            "25/25 [==============================] - 0s 14ms/step - loss: 0.2273 - accuracy: 0.9403 - ignore_accuracy: 0.3708 - val_loss: 0.2330 - val_accuracy: 0.9324 - val_ignore_accuracy: 0.3062\n",
            "Epoch 7/9\n",
            "25/25 [==============================] - 0s 14ms/step - loss: 0.2202 - accuracy: 0.9403 - ignore_accuracy: 0.3704 - val_loss: 0.2258 - val_accuracy: 0.9324 - val_ignore_accuracy: 0.3062\n",
            "Epoch 8/9\n",
            "25/25 [==============================] - 0s 14ms/step - loss: 0.2140 - accuracy: 0.9403 - ignore_accuracy: 0.3695 - val_loss: 0.2194 - val_accuracy: 0.9324 - val_ignore_accuracy: 0.3062\n",
            "Epoch 9/9\n",
            "25/25 [==============================] - 0s 14ms/step - loss: 0.2084 - accuracy: 0.9403 - ignore_accuracy: 0.3701 - val_loss: 0.2162 - val_accuracy: 0.9324 - val_ignore_accuracy: 0.3062\n",
            "31/31 [==============================] - 0s 5ms/step - loss: 0.2176 - accuracy: 0.9330 - ignore_accuracy: 0.3052\n",
            "31/31 [==============================] - 1s 4ms/step\n",
            "31/31 [==============================] - 0s 4ms/step\n",
            "Iteration 1 started.\n",
            "Model: \"sequential_14\"\n",
            "_________________________________________________________________\n",
            " Layer (type)                Output Shape              Param #   \n",
            "=================================================================\n",
            " embedding_14 (Embedding)    (None, 26, 300)           28800     \n",
            "                                                                 \n",
            " bidirectional_14 (Bidirecti  (None, 26, 512)          1140736   \n",
            " onal)                                                           \n",
            "                                                                 \n",
            " time_distributed_14 (TimeDi  (None, 26, 18)           9234      \n",
            " stributed)                                                      \n",
            "                                                                 \n",
            " activation_14 (Activation)  (None, 26, 18)            0         \n",
            "                                                                 \n",
            "=================================================================\n",
            "Total params: 1,178,770\n",
            "Trainable params: 1,149,970\n",
            "Non-trainable params: 28,800\n",
            "_________________________________________________________________\n",
            "Epoch 1/9\n",
            "25/25 [==============================] - 4s 52ms/step - loss: 1.1884 - accuracy: 0.9117 - ignore_accuracy: 0.0000e+00 - val_loss: 0.3181 - val_accuracy: 0.9099 - val_ignore_accuracy: 0.0000e+00\n",
            "Epoch 2/9\n",
            "25/25 [==============================] - 0s 14ms/step - loss: 0.2845 - accuracy: 0.9117 - ignore_accuracy: 0.0000e+00 - val_loss: 0.2723 - val_accuracy: 0.9099 - val_ignore_accuracy: 0.0000e+00\n",
            "Epoch 3/9\n",
            "25/25 [==============================] - 0s 14ms/step - loss: 0.2582 - accuracy: 0.9163 - ignore_accuracy: 0.1213 - val_loss: 0.2566 - val_accuracy: 0.9223 - val_ignore_accuracy: 0.3244\n",
            "Epoch 4/9\n",
            "25/25 [==============================] - 0s 14ms/step - loss: 0.2455 - accuracy: 0.9259 - ignore_accuracy: 0.3696 - val_loss: 0.2456 - val_accuracy: 0.9348 - val_ignore_accuracy: 0.3250\n",
            "Epoch 5/9\n",
            "25/25 [==============================] - 0s 14ms/step - loss: 0.2354 - accuracy: 0.9399 - ignore_accuracy: 0.3664 - val_loss: 0.2366 - val_accuracy: 0.9348 - val_ignore_accuracy: 0.3250\n",
            "Epoch 6/9\n",
            "25/25 [==============================] - 0s 14ms/step - loss: 0.2271 - accuracy: 0.9399 - ignore_accuracy: 0.3666 - val_loss: 0.2291 - val_accuracy: 0.9348 - val_ignore_accuracy: 0.3250\n",
            "Epoch 7/9\n",
            "25/25 [==============================] - 0s 14ms/step - loss: 0.2199 - accuracy: 0.9399 - ignore_accuracy: 0.3667 - val_loss: 0.2228 - val_accuracy: 0.9348 - val_ignore_accuracy: 0.3250\n",
            "Epoch 8/9\n",
            "25/25 [==============================] - 0s 14ms/step - loss: 0.2136 - accuracy: 0.9399 - ignore_accuracy: 0.3659 - val_loss: 0.2162 - val_accuracy: 0.9348 - val_ignore_accuracy: 0.3250\n",
            "Epoch 9/9\n",
            "25/25 [==============================] - 0s 14ms/step - loss: 0.2076 - accuracy: 0.9399 - ignore_accuracy: 0.3664 - val_loss: 0.2115 - val_accuracy: 0.9348 - val_ignore_accuracy: 0.3250\n",
            "31/31 [==============================] - 0s 6ms/step - loss: 0.2146 - accuracy: 0.9324 - ignore_accuracy: 0.2920\n",
            "31/31 [==============================] - 1s 4ms/step\n",
            "31/31 [==============================] - 0s 4ms/step\n"
          ]
        }
      ]
    },
    {
      "cell_type": "code",
      "metadata": {
        "id": "hmojEjB4lmFl",
        "colab": {
          "base_uri": "https://localhost:8080/"
        },
        "outputId": "5e5b9a5a-103d-46bd-8a3e-02779fa8b7e1"
      },
      "source": [
        "predictions[0][2]"
      ],
      "execution_count": null,
      "outputs": [
        {
          "output_type": "execute_result",
          "data": {
            "text/plain": [
              "array([6.1688215e-01, 5.6874678e-03, 8.4197540e-03, 6.2089264e-03,\n",
              "       2.4051750e-02, 5.1395368e-04, 5.0833328e-03, 2.1947069e-02,\n",
              "       3.2019755e-03, 4.8227571e-03, 6.8808859e-03, 1.1516171e-02,\n",
              "       1.2490945e-02, 5.6410879e-03, 6.2327515e-03, 6.3348472e-02,\n",
              "       2.9840809e-04, 1.9677216e-01], dtype=float32)"
            ]
          },
          "metadata": {},
          "execution_count": 18
        }
      ]
    },
    {
      "cell_type": "code",
      "metadata": {
        "id": "Rc8YP5VUVkf9",
        "colab": {
          "base_uri": "https://localhost:8080/"
        },
        "outputId": "bfaae153-0e04-4917-88ab-de76a469dffc"
      },
      "source": [
        "tot_acc = np.mean(acc)\n",
        "tot_acc"
      ],
      "execution_count": null,
      "outputs": [
        {
          "output_type": "execute_result",
          "data": {
            "text/plain": [
              "74.00615970293681"
            ]
          },
          "metadata": {},
          "execution_count": 23
        }
      ]
    },
    {
      "cell_type": "code",
      "metadata": {
        "id": "UL4kLo4R2z-Y",
        "colab": {
          "base_uri": "https://localhost:8080/"
        },
        "outputId": "14278b50-030b-4a52-a5ea-95df795b19a1"
      },
      "source": [
        "acc"
      ],
      "execution_count": null,
      "outputs": [
        {
          "output_type": "execute_result",
          "data": {
            "text/plain": [
              "[48.571908473968506,\n",
              " 35.9106183052063,\n",
              " 28.286290168762207,\n",
              " 30.517473816871643,\n",
              " 29.1973739862442,\n",
              " 95.21756172180176,\n",
              " 93.95493268966675,\n",
              " 93.0924654006958,\n",
              " 93.30225586891174,\n",
              " 93.23714971542358,\n",
              " 95.21756172180176,\n",
              " 93.95493268966675,\n",
              " 93.0924654006958,\n",
              " 93.30225586891174,\n",
              " 93.23714971542358]"
            ]
          },
          "metadata": {},
          "execution_count": 24
        }
      ]
    },
    {
      "cell_type": "code",
      "source": [
        "from matplotlib import pyplot\n",
        "pyplot.plot(history.history['loss'])\n",
        "pyplot.plot(history.history['accuracy'])\n",
        "pyplot.title('model loss vs accuracy')\n",
        "pyplot.xlabel('epoch')\n",
        "pyplot.legend(['loss', 'accuracy'], loc='upper right')\n",
        "pyplot.show()\n"
      ],
      "metadata": {
        "colab": {
          "base_uri": "https://localhost:8080/",
          "height": 295
        },
        "id": "NSXx9cQhmRnR",
        "outputId": "5d78d0b8-0d51-438b-fcb1-3cdfdeeb6fc8"
      },
      "execution_count": null,
      "outputs": [
        {
          "output_type": "display_data",
          "data": {
            "text/plain": [
              "<Figure size 432x288 with 1 Axes>"
            ],
            "image/png": "[encoded data removed]"
          },
          "metadata": {
            "needs_background": "light"
          }
        }
      ]
    }
  ]
}